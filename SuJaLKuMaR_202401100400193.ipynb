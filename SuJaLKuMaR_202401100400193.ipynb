{
  "nbformat": 4,
  "nbformat_minor": 0,
  "metadata": {
    "colab": {
      "provenance": []
    },
    "kernelspec": {
      "name": "python3",
      "display_name": "Python 3"
    },
    "language_info": {
      "name": "python"
    }
  },
  "cells": [
    {
      "cell_type": "code",
      "execution_count": null,
      "metadata": {
        "id": "H4otU8VdQ-xE"
      },
      "outputs": [],
      "source": [
        "def is_prime(n):\n",
        "    # Check if a number is prime\n",
        "    if n < 2:\n",
        "        return False\n",
        "    for i in range(2, int(n ** 0.5) + 1):  # Loop from 2 to sqrt(n)\n",
        "        if n % i == 0:\n",
        "            return False  # If divisible, not a prime\n",
        "    return True  # If no divisors found, it's a prime\n",
        "\n",
        "def generate_primes(limit):\n",
        "    # Generate prime numbers up to a given limit\n",
        "    primes = []\n",
        "    for num in range(2, limit + 1):\n",
        "        if is_prime(num):\n",
        "            primes.append(num)  # Add prime number to the list\n",
        "    return primes\n",
        "\n",
        "if __name__ == \"__main__\":\n",
        "    # Ask user for input choice\n",
        "    choice = input(\"Do you want to (1) generate prime numbers or (2) check if a number is prime? Enter 1 or 2: \")\n",
        "\n",
        "    if choice == \"1\":\n",
        "        limit = int(input(\"Enter the limit: \"))  # Get limit from user\n",
        "        print(\"Prime numbers:\", generate_primes(limit))  # Print prime numbers\n",
        "    elif choice == \"2\":\n",
        "        num = int(input(\"Enter a number: \"))  # Get number from user\n",
        "        if is_prime(num):\n",
        "            print(f\"{num} is a prime number.\")\n",
        "        else:\n",
        "            print(f\"{num} is not a prime number.\")\n",
        "    else:\n",
        "        print(\"Invalid choice. Please enter 1 or 2.\")  # Handle invalid input\n"
      ]
    }
  ]
}